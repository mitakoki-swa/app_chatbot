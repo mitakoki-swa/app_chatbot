{
 "cells": [
  {
   "cell_type": "code",
   "execution_count": 4,
   "id": "1a11f35e",
   "metadata": {},
   "outputs": [
    {
     "name": "stdout",
     "output_type": "stream",
     "text": [
      "55\n"
     ]
    }
   ],
   "source": [
    "input = 10\n",
    "output = 0\n",
    "for i in range(input+1):\n",
    "    output = output + i\n",
    "\n",
    "print(output)"
   ]
  },
  {
   "cell_type": "code",
   "execution_count": 19,
   "id": "08d31ee1",
   "metadata": {},
   "outputs": [],
   "source": [
    "def calc(n):\n",
    "    output = 0\n",
    "    for i in range(n+1):\n",
    "        output += i\n",
    "    return output"
   ]
  },
  {
   "cell_type": "code",
   "execution_count": 20,
   "id": "e1860dae",
   "metadata": {},
   "outputs": [
    {
     "data": {
      "text/plain": [
       "55"
      ]
     },
     "execution_count": 20,
     "metadata": {},
     "output_type": "execute_result"
    }
   ],
   "source": [
    "calc(10)"
   ]
  },
  {
   "cell_type": "code",
   "execution_count": 5,
   "id": "616da76c",
   "metadata": {},
   "outputs": [],
   "source": [
    "def calc2(n):\n",
    "    if n == 0:\n",
    "        return n\n",
    "    return n + calc2(n-1)"
   ]
  },
  {
   "cell_type": "code",
   "execution_count": 1,
   "id": "670ee38b",
   "metadata": {},
   "outputs": [],
   "source": [
    "def calc3(n):\n",
    "    if n % 2 == 0:\n",
    "        return (1 + n) * (n // 2)\n",
    "    else:\n",
    "        return (1 + n) * (n // 2) + (n // 2 + 1)"
   ]
  },
  {
   "cell_type": "code",
   "execution_count": 2,
   "id": "0d33c54e",
   "metadata": {},
   "outputs": [
    {
     "data": {
      "text/plain": [
       "55"
      ]
     },
     "execution_count": 2,
     "metadata": {},
     "output_type": "execute_result"
    }
   ],
   "source": [
    "calc3(10)"
   ]
  },
  {
   "cell_type": "code",
   "execution_count": 3,
   "id": "7138cad8",
   "metadata": {},
   "outputs": [
    {
     "data": {
      "text/plain": [
       "5000000000000000000000050000000000000000000000"
      ]
     },
     "execution_count": 3,
     "metadata": {},
     "output_type": "execute_result"
    }
   ],
   "source": [
    "calc3(100000000000000000000000)"
   ]
  },
  {
   "cell_type": "code",
   "execution_count": 6,
   "id": "cad5a31e",
   "metadata": {},
   "outputs": [
    {
     "ename": "RecursionError",
     "evalue": "maximum recursion depth exceeded in comparison",
     "output_type": "error",
     "traceback": [
      "\u001b[31m---------------------------------------------------------------------------\u001b[39m",
      "\u001b[31mRecursionError\u001b[39m                            Traceback (most recent call last)",
      "\u001b[36mCell\u001b[39m\u001b[36m \u001b[39m\u001b[32mIn[6]\u001b[39m\u001b[32m, line 1\u001b[39m\n\u001b[32m----> \u001b[39m\u001b[32m1\u001b[39m \u001b[43mcalc2\u001b[49m\u001b[43m(\u001b[49m\u001b[32;43m100000000000000000000000\u001b[39;49m\u001b[43m)\u001b[49m\n",
      "\u001b[36mCell\u001b[39m\u001b[36m \u001b[39m\u001b[32mIn[5]\u001b[39m\u001b[32m, line 4\u001b[39m, in \u001b[36mcalc2\u001b[39m\u001b[34m(n)\u001b[39m\n\u001b[32m      2\u001b[39m \u001b[38;5;28;01mif\u001b[39;00m n == \u001b[32m0\u001b[39m:\n\u001b[32m      3\u001b[39m     \u001b[38;5;28;01mreturn\u001b[39;00m n\n\u001b[32m----> \u001b[39m\u001b[32m4\u001b[39m \u001b[38;5;28;01mreturn\u001b[39;00m n + \u001b[43mcalc2\u001b[49m\u001b[43m(\u001b[49m\u001b[43mn\u001b[49m\u001b[43m-\u001b[49m\u001b[32;43m1\u001b[39;49m\u001b[43m)\u001b[49m\n",
      "\u001b[36mCell\u001b[39m\u001b[36m \u001b[39m\u001b[32mIn[5]\u001b[39m\u001b[32m, line 4\u001b[39m, in \u001b[36mcalc2\u001b[39m\u001b[34m(n)\u001b[39m\n\u001b[32m      2\u001b[39m \u001b[38;5;28;01mif\u001b[39;00m n == \u001b[32m0\u001b[39m:\n\u001b[32m      3\u001b[39m     \u001b[38;5;28;01mreturn\u001b[39;00m n\n\u001b[32m----> \u001b[39m\u001b[32m4\u001b[39m \u001b[38;5;28;01mreturn\u001b[39;00m n + \u001b[43mcalc2\u001b[49m\u001b[43m(\u001b[49m\u001b[43mn\u001b[49m\u001b[43m-\u001b[49m\u001b[32;43m1\u001b[39;49m\u001b[43m)\u001b[49m\n",
      "    \u001b[31m[... skipping similar frames: calc2 at line 4 (2969 times)]\u001b[39m\n",
      "\u001b[36mCell\u001b[39m\u001b[36m \u001b[39m\u001b[32mIn[5]\u001b[39m\u001b[32m, line 4\u001b[39m, in \u001b[36mcalc2\u001b[39m\u001b[34m(n)\u001b[39m\n\u001b[32m      2\u001b[39m \u001b[38;5;28;01mif\u001b[39;00m n == \u001b[32m0\u001b[39m:\n\u001b[32m      3\u001b[39m     \u001b[38;5;28;01mreturn\u001b[39;00m n\n\u001b[32m----> \u001b[39m\u001b[32m4\u001b[39m \u001b[38;5;28;01mreturn\u001b[39;00m n + \u001b[43mcalc2\u001b[49m\u001b[43m(\u001b[49m\u001b[43mn\u001b[49m\u001b[43m-\u001b[49m\u001b[32;43m1\u001b[39;49m\u001b[43m)\u001b[49m\n",
      "\u001b[36mCell\u001b[39m\u001b[36m \u001b[39m\u001b[32mIn[5]\u001b[39m\u001b[32m, line 2\u001b[39m, in \u001b[36mcalc2\u001b[39m\u001b[34m(n)\u001b[39m\n\u001b[32m      1\u001b[39m \u001b[38;5;28;01mdef\u001b[39;00m\u001b[38;5;250m \u001b[39m\u001b[34mcalc2\u001b[39m(n):\n\u001b[32m----> \u001b[39m\u001b[32m2\u001b[39m     \u001b[38;5;28;01mif\u001b[39;00m \u001b[43mn\u001b[49m\u001b[43m \u001b[49m\u001b[43m==\u001b[49m\u001b[43m \u001b[49m\u001b[32;43m0\u001b[39;49m:\n\u001b[32m      3\u001b[39m         \u001b[38;5;28;01mreturn\u001b[39;00m n\n\u001b[32m      4\u001b[39m     \u001b[38;5;28;01mreturn\u001b[39;00m n + calc2(n-\u001b[32m1\u001b[39m)\n",
      "\u001b[31mRecursionError\u001b[39m: maximum recursion depth exceeded in comparison"
     ]
    }
   ],
   "source": [
    "calc2(100000000000000000000000)"
   ]
  },
  {
   "cell_type": "code",
   "execution_count": 13,
   "id": "80575ba5",
   "metadata": {},
   "outputs": [],
   "source": [
    "def reverses(str):\n",
    "    original = list(str)\n",
    "    reverse = \"\"\n",
    "\n",
    "    while original:\n",
    "        reverse += original.pop()\n",
    "    return reverse"
   ]
  },
  {
   "cell_type": "code",
   "execution_count": 7,
   "id": "f0cbff18",
   "metadata": {},
   "outputs": [
    {
     "data": {
      "text/plain": [
       "['b', 'a', 'n', 'a', 'n', 'a']"
      ]
     },
     "execution_count": 7,
     "metadata": {},
     "output_type": "execute_result"
    }
   ],
   "source": [
    "str = 'banana'\n",
    "list(str)"
   ]
  },
  {
   "cell_type": "code",
   "execution_count": 15,
   "id": "cc599952",
   "metadata": {},
   "outputs": [
    {
     "data": {
      "text/plain": [
       "'elppa'"
      ]
     },
     "execution_count": 15,
     "metadata": {},
     "output_type": "execute_result"
    }
   ],
   "source": [
    "str = 'apple'\n",
    "reverses(str)"
   ]
  },
  {
   "cell_type": "code",
   "execution_count": null,
   "id": "88a5f772",
   "metadata": {},
   "outputs": [],
   "source": [
    "from collections import deque\n",
    "def replace(arr):\n",
    "    queue = deque(list(arr))\n",
    "    result = []\n",
    "    \n",
    "    while queue:\n",
    "        _ = queue.popleft()\n",
    "        if _ == 'A':\n",
    "            result.append(1)\n",
    "        elif _ == 'B':\n",
    "            result.append(2)\n",
    "        elif _ == 'C':\n",
    "            result.append(3)\n",
    "        else:\n",
    "            result.append(4)\n",
    "    return result"
   ]
  },
  {
   "cell_type": "code",
   "execution_count": 19,
   "id": "0e9de3c4",
   "metadata": {},
   "outputs": [
    {
     "data": {
      "text/plain": [
       "[1, 4, 3, 4]"
      ]
     },
     "execution_count": 19,
     "metadata": {},
     "output_type": "execute_result"
    }
   ],
   "source": [
    "arr = ['A', 'D', 'C', 'E']\n",
    "replace(arr)"
   ]
  },
  {
   "cell_type": "code",
   "execution_count": 20,
   "id": "2c5e51dd",
   "metadata": {},
   "outputs": [],
   "source": [
    "def reverse_s(s):\n",
    "    res = \"\"\n",
    "    for i in range(len(s)-1, -1, -1):\n",
    "        res += s[i]\n",
    "    return res"
   ]
  },
  {
   "cell_type": "code",
   "execution_count": 22,
   "id": "44e3fd40",
   "metadata": {},
   "outputs": [
    {
     "data": {
      "text/plain": [
       "'elppa'"
      ]
     },
     "execution_count": 22,
     "metadata": {},
     "output_type": "execute_result"
    }
   ],
   "source": [
    "reverse_s(str)"
   ]
  },
  {
   "cell_type": "code",
   "execution_count": 23,
   "id": "ba67223b",
   "metadata": {},
   "outputs": [],
   "source": [
    "def replace_map(arr):\n",
    "    mapping = {\n",
    "        'A': 1,\n",
    "        'B': 2,\n",
    "        'C': 3\n",
    "    }\n",
    "    return [mapping.get(ch, 4) for ch in arr]"
   ]
  },
  {
   "cell_type": "code",
   "execution_count": 24,
   "id": "40dda488",
   "metadata": {},
   "outputs": [
    {
     "data": {
      "text/plain": [
       "[1, 3, 4, 2]"
      ]
     },
     "execution_count": 24,
     "metadata": {},
     "output_type": "execute_result"
    }
   ],
   "source": [
    "arr = ['A', 'C', 'E', 'B']\n",
    "replace_map(arr)"
   ]
  },
  {
   "cell_type": "code",
   "execution_count": 30,
   "id": "bfe4ef83",
   "metadata": {},
   "outputs": [],
   "source": [
    "def replece_map(arr):\n",
    "    hash = {'A':1, 'B':2, 'C':3}\n",
    "    res = []\n",
    "    for i in arr:\n",
    "        if i in hash:\n",
    "            res.append(hash[i])\n",
    "        else:\n",
    "            res.append(4)\n",
    "    return res"
   ]
  },
  {
   "cell_type": "code",
   "execution_count": 31,
   "id": "a68cb3c9",
   "metadata": {},
   "outputs": [
    {
     "data": {
      "text/plain": [
       "[4, 4, 1, 4]"
      ]
     },
     "execution_count": 31,
     "metadata": {},
     "output_type": "execute_result"
    }
   ],
   "source": [
    "arr = ['D', 'G', 'A', 'a']\n",
    "replece_map(arr)"
   ]
  },
  {
   "cell_type": "code",
   "execution_count": null,
   "id": "f82a6730",
   "metadata": {},
   "outputs": [],
   "source": [
    "def check_dupli(s):\n",
    "    check = set(s)\n",
    "    return len(check) == len(s)"
   ]
  },
  {
   "cell_type": "code",
   "execution_count": 34,
   "id": "4f9ac312",
   "metadata": {},
   "outputs": [
    {
     "data": {
      "text/plain": [
       "True"
      ]
     },
     "execution_count": 34,
     "metadata": {},
     "output_type": "execute_result"
    }
   ],
   "source": [
    "s = 'apple'\n",
    "a = 'mikan'\n",
    "check_dupli(a)"
   ]
  },
  {
   "cell_type": "code",
   "execution_count": null,
   "id": "1d65b9ef",
   "metadata": {},
   "outputs": [],
   "source": []
  }
 ],
 "metadata": {
  "kernelspec": {
   "display_name": ".venv",
   "language": "python",
   "name": "python3"
  },
  "language_info": {
   "codemirror_mode": {
    "name": "ipython",
    "version": 3
   },
   "file_extension": ".py",
   "mimetype": "text/x-python",
   "name": "python",
   "nbconvert_exporter": "python",
   "pygments_lexer": "ipython3",
   "version": "3.11.9"
  }
 },
 "nbformat": 4,
 "nbformat_minor": 5
}
